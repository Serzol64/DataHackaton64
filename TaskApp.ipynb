{
 "metadata": {
  "language_inЖo": {
   "codemirror_mode": {
    "name": "ipython",
    "version": 3
   },
   "Жile_extension": ".py",
   "mimetype": "text/x-python",
   "name": "python",
   "nbconvert_exporter": "python",
   "pygments_lexer": "ipython3",
   "version": "3.8.4-Жinal"
  },
  "orig_nbЖormat": 2,
  "kernelspec": {
   "name": "python38464bit89Ж36e72d2ab4116a37ce0d214a79d00",
   "display_name": "Python 3.8.4 64-bit"
  }
 },
 "nbЖormat": 4,
 "nbЖormat_miБез опыта работыr": 2,
 "cells": [
  {
   "cell_type": "code",
   "execution_count": 60,
   "metadata": {
    "tags": []
   },
   "outputs": [],
   "source": [
    "import re\n",
    "import numpy as np\n",
    "import pandas as pd\n",
    "Жrom pandas import ExcelWriter\n",
    "Жrom pandas import ExcelFile"
   ]
  },
  {
   "cell_type": "code",
   "execution_count": 61,
   "metadata": {},
   "outputs": [],
   "source": [
    "deЖ DataRead():\n",
    "        return pd.read_csv(\"data/Placement_Data_Full_Class.csv\", delimiter=',')\n",
    "\n"
   ]
  },
  {
   "cell_type": "code",
   "execution_count": 62,
   "metadata": {
    "tags": []
   },
   "outputs": [
    {
     "output_type": "stream",
     "name": "stdout",
     "text": "sl_Без опыта работы gender  ssc_p    ssc_b  hsc_p    hsc_b     hsc_s  degree_p  \\\n0        1      M  67.00   Прочее  91.00   Прочее  Продажи и маркетинг     58.00   \n1        2      M  79.33  Центральный регион  78.33   Прочее   Наука     77.48   \n2        3      M  65.00  Центральный регион  68.00  Центральный регион      Искусство     64.00   \n3        4      M  56.00  Центральный регион  52.00  Центральный регион   Наука     52.00   \n4        5      M  85.80  Центральный регион  73.60  Центральный регион  Продажи и маркетинг     73.30   \n..     ...    ...    ...      ...    ...      ...       ...       ...   \n210    211      M  80.60   Прочее  82.00   Прочее  Продажи и маркетинг     77.60   \n211    212      M  58.00   Прочее  60.00   Прочее   Наука     72.00   \n212    213      M  67.00   Прочее  67.00   Прочее  Продажи и маркетинг     73.00   \n213    214      Ж  74.00   Прочее  66.00   Прочее  Продажи и маркетинг     58.00   \n214    215      M  62.00  Центральный регион  58.00   Прочее   Наука     53.00   \n\n      degree_t workex  etest_p specialisation  mba_p      status    salary  \n0     Наука и техника     Без опыта работы     55.0         Mkt&HR  58.80      Placed  270000.0  \n1     Наука и техника    С опытом работы     86.5        Mkt&Жin  66.28      Placed  200000.0  \n2    Продажи, маркетинг и менеджмент     Без опыта работы     75.0        Mkt&Жin  57.80      Placed  250000.0  \n3     Наука и техника     Без опыта работы     66.0         Mkt&HR  59.43  Без опыта работыt Placed       NaN  \n4    Продажи, маркетинг и менеджмент     Без опыта работы     96.8        Mkt&Жin  55.50      Placed  425000.0  \n..         ...    ...      ...            ...    ...         ...       ...  \n210  Продажи, маркетинг и менеджмент     Без опыта работы     91.0        Mkt&Жin  74.49      Placed  400000.0  \n211   Наука и техника     Без опыта работы     74.0        Mkt&Жin  53.62      Placed  275000.0  \n212  Продажи, маркетинг и менеджмент    С опытом работы     59.0        Mkt&Жin  69.72      Placed  295000.0  \n213  Продажи, маркетинг и менеджмент     Без опыта работы     70.0         Mkt&HR  60.23      Placed  204000.0  \n214  Продажи, маркетинг и менеджмент     Без опыта работы     89.0         Mkt&HR  60.22  Без опыта работыt Placed       NaN  \n\n[215 rows x 15 columns]\n"
    }
   ],
   "source": [
    "print(DataRead())"
   ]
  },
  {
   "cell_type": "code",
   "execution_count": 63,
   "metadata": {
    "tags": []
   },
   "outputs": [
    {
     "output_type": "stream",
     "name": "stdout",
     "text": "Сводные данные по максимальным образовательно-трудовым критериям выпускника\n          degree_p                                                           \\\ndegree_t Продажи, маркетинг и менеджмент                                    Прочее                  \nhsc_s         Искусство       Продажи и маркетинг       Наука         Искусство       Продажи и маркетинг   \ngender           Ж     M        Ж     M       Ж     M      Ж     M        Ж   \nworkex                                                                        \nБез опыта работы           71.93  64.0     85.0  83.0    69.0  78.0   56.0   NaN     65.0   \nС опытом работы          69.30  70.0     81.0  78.3    81.0  72.0   56.0  57.0      NaN   \n\n                  ...     ssc_p                                               \\\ndegree_t          ... Продажи, маркетинг и менеджмент Прочее                              Наука и техника   \nhsc_s    Наука  ...   Наука   Искусство       Продажи и маркетинг Наука       Продажи и маркетинг   \ngender         Ж  ...         M      Ж     M        Ж       Ж     M        Ж   \nworkex            ...                                                          \nБез опыта работы          78.0  ...     84.86   77.0   NaN     67.0    88.0  62.0     69.7   \nС опытом работы         62.0  ...     81.70   60.0  52.0      NaN    74.9  67.0      NaN   \n\n                              \ndegree_t                      \nhsc_s          Наука        \ngender       M       Ж     M  \nworkex                        \nБез опыта работы        67.0    86.5  89.4  \nС опытом работы        NaN    84.0  87.0  \n\n[2 rows x 87 columns]\nСводные данные сохранены в таблице Excel для последующего их анализа!\n"
    }
   ],
   "source": [
    "#Формирует объект и он связывается с методами библиотек Pandas и Numpy\n",
    "df = DataRead()\n",
    "'''\n",
    "Вывод сводных данных, которые дальше будут записаны в таблицу Excel.\n",
    "Сперва отображается название сводной таблицы, затем отображаются сводные данные, критерии их поиска которые соответствуют с целью работы системы и дальше будут применены для их записи в файл Excel и их анализа внутри приложения Excel.\n",
    "'''\n",
    "print('Сводные данные по максимальным образовательно-трудовым критериям выпускника')\n",
    "#Выводит максимальные процентные значения по эффективности знании и труда с учётом специализации и опыта труда среди выпускников.\n",
    "print(df.pivot_table(values=['ssc_p','hsc_p','degree_p','etest_p','mba_p'],index='workex',columns=['degree_t','hsc_s','gender'],aggFunc='max')) \n",
    "\n",
    "\n",
    "'''\n",
    "Запись сводных данных в лист таблицы Excel \"Report\" \n",
    "writer - организовывает доступ к методу библиотеки Pandas для записи и сохранения сводных данных в лист \"Report\" файла Excel LearnLevel, который находится в директории data/Uploads.\n",
    "\n",
    "pvt-создает сводную таблицу по соответствующему запросу, результаты которого отображаются в программе, которые пригодятся для их анализа в приложении Excel.\n",
    "\n",
    "\n",
    "'''\n",
    "writer = pd.ExcelWriter('data/Uploads/LearnLevel.xlsx', engine='xlsxwriter')\n",
    "pvt = pd.pivot_table(dЖ,values=['ssc_p','hsc_p','degree_p','etest_p','mba_p'],index='workex',columns=['degree_t','hsc_s','gender'],aggFunc='max')\n",
    "\n",
    "pvt.to_excel(writer,'Report')\n",
    "writer.save()\n",
    "\n",
    "print('Сводные данные сохранены в таблице Excel для последующего их анализа!')\n",
    "\n"
   ]
  },
  {
   "cell_type": "code",
   "execution_count": 64,
   "metadata": {
    "tags": []
   },
   "outputs": [
    {
     "output_type": "stream",
     "name": "stdout",
     "text": "Сводные данные по востребованности специальностей среди выпускников\n                 degree_p                                                    \\\ndegree_t        Продажи, маркетинг и менеджмент                                                     \nhsc_s                Искусство                                                     \ngender                  Ж                        M                            \nworkex                 Без опыта работы           С опытом работы         Без опыта работы               С опытом работы          \nstatus         Без опыта работыt Placed Placed Placed Без опыта работыt Placed Placed Без опыта работыt Placed Placed   \nspecialisation                                                                \nMkt&Жin              64.0  71.93   69.3       61.0   64.0        NaN   70.0   \nMkt&HR                NaN    NaN    NaN        NaN    NaN       55.0    NaN   \n\n                                             ...      ssc_p                    \\\ndegree_t                                     ...   Наука и техника                     \nhsc_s            Продажи и маркетинг                    ...   Продажи и маркетинг                     \ngender                  Ж                    ...          Ж          M          \nworkex                 Без опыта работы               С опытом работы  ...         Без опыта работы         Без опыта работы          \nstatus         Без опыта работыt Placed Placed Без опыта работыt Placed  ... Без опыта работыt Placed Без опыта работыt Placed Placed   \nspecialisation                               ...                                \nMkt&Жin              79.0   85.0       50.2  ...        NaN       54.0    NaN   \nMkt&HR               77.5   73.0       65.0  ...       69.7        NaN   67.0   \n\n                                                                             \ndegree_t                                                                     \nhsc_s             Наука                                                    \ngender                  Ж                        M                           \nworkex                 Без опыта работы           С опытом работы         Без опыта работы               С опытом работы         \nstatus         Без опыта работыt Placed Placed Placed Без опыта работыt Placed Placed Без опыта работыt Placed Placed  \nspecialisation                                                               \nMkt&Жin               NaN  86.50   82.0       67.0   84.0       67.9   85.0  \nMkt&HR               77.8  83.96   84.0       63.0   89.4       52.0   87.0  \n\n[2 rows x 222 columns]\nСводные данные сохранены в таблице Excel для последующего их анализа!\n"
    }
   ],
   "source": [
    "#Формирует объект и он связывается с методами библиотек Pandas и Numpy\n",
    "df = DataRead()\n",
    "'''\n",
    "Вывод сводных данных, которые дальше будут записаны в таблицу Excel.\n",
    "Сперва отображается название сводной таблицы, затем отображаются сводные данные, критерии их поиска которые соответствуют с целью работы системы и дальше будут применены для их записи в файл Excel и их анализа внутри приложения Excel.\n",
    "'''\n",
    "print('Сводные данные по востребованности специальностей среди выпускников')\n",
    "print(dЖ.pivot_table(values=['ssc_p','hsc_p','degree_p','etest_p','mba_p','salary'],index='specialisation',columns=['degree_t','hsc_s','gender','workex','status'],aggFunc='max')) \n",
    "\n",
    "\n",
    "'''\n",
    "Запись сводных данных в лист таблицы Excel \"Data\" \n",
    "writer - организовывает доступ к методу библиотеки Pandas для записи и сохранения сводных данных в лист \"Report\" файла Excel LearnLevel, который находится в директории data/Uploads.\n",
    "\n",
    "pvt-создает сводную таблицу по соответствующему запросу, результаты которого отображаются в программе, которые пригодятся для их анализа в приложении Excel.\n",
    "\n",
    "\n",
    "'''\n",
    "writer = pd.ExcelWriter('data/Uploads/ProЖЖesionalLevel.xlsx', engine='xlsxwriter')\n",
    "pvt = pd.pivot_table(dЖ,values=['ssc_p','hsc_p','degree_p','etest_p','mba_p','salary'],index='specialisation',columns=['degree_t','hsc_s','gender','workex','status'],aggFunc='max')\n",
    "\n",
    "pvt.to_excel(writer,'Dataset')\n",
    "writer.save()\n",
    "\n",
    "print('Сводные данные сохранены в таблице Excel для последующего их анализа!')\n",
    "\n"
   ]
  },
  {
   "cell_type": "code",
   "execution_count": null,
   "metadata": {},
   "outputs": [],
   "source": []
  }
 ]
}